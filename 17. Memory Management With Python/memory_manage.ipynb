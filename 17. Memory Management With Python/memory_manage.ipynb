{
 "cells": [
  {
   "cell_type": "code",
   "execution_count": 1,
   "id": "002ad470",
   "metadata": {},
   "outputs": [
    {
     "name": "stdout",
     "output_type": "stream",
     "text": [
      "2\n"
     ]
    }
   ],
   "source": [
    "## Reference Counting dùng để theo dõi số lượng biến tham chiếu đến một đối tượng\n",
    "\n",
    "import sys\n",
    "\n",
    "a = []\n",
    "## 2 (one reference from 'a' and one from the reference count)\n",
    "print(sys.getrefcount(a))  "
   ]
  },
  {
   "cell_type": "code",
   "execution_count": null,
   "id": "b7fcf727",
   "metadata": {},
   "outputs": [
    {
     "name": "stdout",
     "output_type": "stream",
     "text": [
      "3\n"
     ]
    }
   ],
   "source": [
    "b = a\n",
    "## 3 (one reference from 'a', one from 'b', and one from the reference count)\n",
    "print(sys.getrefcount(b))"
   ]
  },
  {
   "cell_type": "code",
   "execution_count": null,
   "id": "e2fe2722",
   "metadata": {},
   "outputs": [],
   "source": [
    "### Garbage collection tự độn thu hồi bộ nhớ, khi một đối tượng không còn biến nào tham chiếu tới, Python sẽ tự động giải phóng nó"
   ]
  }
 ],
 "metadata": {
  "kernelspec": {
   "display_name": "Python 3",
   "language": "python",
   "name": "python3"
  },
  "language_info": {
   "codemirror_mode": {
    "name": "ipython",
    "version": 3
   },
   "file_extension": ".py",
   "mimetype": "text/x-python",
   "name": "python",
   "nbconvert_exporter": "python",
   "pygments_lexer": "ipython3",
   "version": "3.12.11"
  }
 },
 "nbformat": 4,
 "nbformat_minor": 5
}
